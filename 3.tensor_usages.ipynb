{
 "cells": [
  {
   "cell_type": "code",
   "execution_count": 1,
   "id": "2a521891",
   "metadata": {},
   "outputs": [
    {
     "name": "stdout",
     "output_type": "stream",
     "text": [
      "cpu\n"
     ]
    }
   ],
   "source": [
    "import torch\n",
    "import numpy as np\n",
    "import time\n",
    "device = 'cuda' if torch.cuda.is_available() else 'cpu' # pattern line\n",
    "print(device) # originally, I'm not going to be able to use GPU, but I took assist of cloud GPUs."
   ]
  },
  {
   "cell_type": "code",
   "execution_count": 16,
   "id": "a6f1c414",
   "metadata": {},
   "outputs": [
    {
     "name": "stdout",
     "output_type": "stream",
     "text": [
      "0.00000000\n"
     ]
    }
   ],
   "source": [
    "# magic line. Prints cell time execution with a few parameters\n",
    "# %%time not currently working at my enviroment \n",
    "# possible return: CPU times: user 1.21 ms, sys: 44 µs, total: 1.25 ms\n",
    "# Wall time: 3.03 ms\n",
    "\n",
    "start_time = time.time() \n",
    "# matrix operations\n",
    "zeros = torch.zeros(1, 1)\n",
    "end_time = time.time()\n",
    "\n",
    "elapsed_time = end_time - start_time\n",
    "print(f\"{elapsed_time:.8f}\")\n",
    "# OBS: While devolping this code at Google Colab, I got a little return\n",
    "# time for this code. Here, I usually don't."
   ]
  },
  {
   "cell_type": "code",
   "execution_count": null,
   "id": "e433c49e",
   "metadata": {},
   "outputs": [],
   "source": [
    "# Testing GPU speed\n",
    "\n",
    "# creating torch matrices:\n",
    "torch_rand1 = torch.rand(100, 100, 100, 100).to(device) \n",
    "torch_rand2 = torch.rand(100, 100, 100, 100).to(device)\n",
    "# As I said my current laptop does not have a GPU, so device='cpu',\n",
    "# but the results at Google Colab indicates that the GPU\n",
    "# is faster for parallel tasks like a 4x4 matrix.\n",
    "\n",
    "# Using 'cpu' (again, I use CPU both cases, but at Google Colab this made difference)\n",
    "np_rand1 = torch.rand(100, 100, 100, 100)\n",
    "np_rand2 = torch.rand(100, 100, 100, 100)\n",
    "\n",
    "start_time = time.time()\n",
    "\n",
    "rand = (torch_rand1 @ torch_rand2) # @ is a reserved symbol at Python.\n",
    "# @ can only be used to correct libraries that allows matricial multiplication.\n",
    "# I can recreate the logic of matricial multiplication with lists, but it's less precise.\n",
    "# Torch uses C++ (which has arrays) to do it.\n",
    "\n",
    "end_time = time.time()\n",
    "\n",
    "elapsed_time = end_time - start_time\n",
    "print(f\"{elapsed_time:.8f}\")\n",
    "\n",
    "start_time = time.time()\n",
    "\n",
    "np.multiply(np_rand1, np_rand2) # numpy has its own way to multiply matrices, even though\n",
    "# according to ChatGPT-4.0, this is not exactly what is happening here.\n",
    "\n",
    "end_time = time.time()\n",
    "elapsed_time = end_time - start_time\n",
    "print(f\"{elapsed_time:.8f}\")"
   ]
  },
  {
   "cell_type": "code",
   "execution_count": 26,
   "id": "5366f5aa",
   "metadata": {},
   "outputs": [
    {
     "name": "stdout",
     "output_type": "stream",
     "text": [
      "tensor([1, 1, 1, 0, 1, 1, 1, 1, 1, 1])\n"
     ]
    }
   ],
   "source": [
    "# This part of the code is, basically, the strutcture that sustains \n",
    "# mutation rate of NEAT algorithm. \n",
    "\n",
    "# First step: define a variable that creates a float tensor, with values\n",
    "probabilities = torch.tensor([0.1, 0.9]) \n",
    "# The values don't need to match, when summed, 1, but it's more accurate\n",
    "# to do like that.\n",
    "\n",
    "# Second step: use the probability generator method of PyTorch to storage\n",
    "# the samples. This could be the part of NEAT algorithm that iniatializes the\n",
    "# mutation rate of some parameters.\n",
    "samples = torch.multinomial(probabilities, num_samples=10, replacement=True)\n",
    "# Generic torch.multinomial:\n",
    "# torch.multinomial(tensor_here, number_of_samples_defined_here, repetition_of_samples_yes_or_not)\n",
    "# OBS: if replacement=False, then num_samples = len(probabilities) or it won't work.\n",
    "print(samples)"
   ]
  },
  {
   "cell_type": "code",
   "execution_count": 30,
   "id": "8a46b6c3",
   "metadata": {},
   "outputs": [
    {
     "data": {
      "text/plain": [
       "tensor([1, 2, 3, 4, 2, 3])"
      ]
     },
     "execution_count": 30,
     "metadata": {},
     "output_type": "execute_result"
    }
   ],
   "source": [
    "# torch.cat method to append tensors.\n",
    "tensor = torch.tensor([1, 2, 3, 4]) # unidimensional tensor\n",
    "\n",
    "output = torch.cat((tensor, torch.tensor([2, 3])), dim=0)\n",
    "output\n",
    "# Note: Jupyter Notebook print anything at the last line, that's\n",
    "# why I don't have to type print(output) (this is a rude explanation)"
   ]
  },
  {
   "cell_type": "code",
   "execution_count": null,
   "id": "645e8eba",
   "metadata": {},
   "outputs": [],
   "source": []
  }
 ],
 "metadata": {
  "kernelspec": {
   "display_name": "cudagpt",
   "language": "python",
   "name": "cuda"
  },
  "language_info": {
   "codemirror_mode": {
    "name": "ipython",
    "version": 3
   },
   "file_extension": ".py",
   "mimetype": "text/x-python",
   "name": "python",
   "nbconvert_exporter": "python",
   "pygments_lexer": "ipython3",
   "version": "3.10.9"
  }
 },
 "nbformat": 4,
 "nbformat_minor": 5
}
