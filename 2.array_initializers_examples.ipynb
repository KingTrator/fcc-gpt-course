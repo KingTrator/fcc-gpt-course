{
 "cells": [
  {
   "cell_type": "code",
   "execution_count": 1,
   "id": "5085ab7a",
   "metadata": {},
   "outputs": [],
   "source": [
    "import torch\n",
    "# the following methods are used to iniatilize multidimensional\n",
    "# arrays (tensors) that can be used by activation functions, such\n",
    "# as tanh (hyperbolic tangent).\n",
    "# Some of them are very specific, the others are a bit more general\n",
    "# they can generate matrix with integers, float, really, really \n",
    "# small numbers,  big numbers or even an empty array (which is more\n",
    "# used to save memory)"
   ]
  },
  {
   "cell_type": "code",
   "execution_count": 2,
   "id": "0bcf94eb",
   "metadata": {},
   "outputs": [
    {
     "data": {
      "text/plain": [
       "tensor([ 89, -22,  58,  26,  58,  97])"
      ]
     },
     "execution_count": 2,
     "metadata": {},
     "output_type": "execute_result"
    }
   ],
   "source": [
    "randint = torch.randint(-100, 100, (6,)) # one line, 6 elements\n",
    "randint"
   ]
  },
  {
   "cell_type": "code",
   "execution_count": 7,
   "id": "e805e6d0",
   "metadata": {},
   "outputs": [
    {
     "data": {
      "text/plain": [
       "tensor([[0.1000, 1.2000, 1.9000],\n",
       "        [2.3000, 3.5000, 3.3000],\n",
       "        [0.9000, 1.9000, 0.8000]])"
      ]
     },
     "execution_count": 7,
     "metadata": {},
     "output_type": "execute_result"
    }
   ],
   "source": [
    "tensor = torch.tensor([[0.1, 1.2, 1.9], [2.3, 3.5, 3.3], [0.9, 1.9, 0.8]])\n",
    "tensor # 3 lines and 3 columns"
   ]
  },
  {
   "cell_type": "code",
   "execution_count": 5,
   "id": "9cffd82f",
   "metadata": {},
   "outputs": [
    {
     "data": {
      "text/plain": [
       "tensor([[0., 0., 0.],\n",
       "        [0., 0., 0.]])"
      ]
     },
     "execution_count": 5,
     "metadata": {},
     "output_type": "execute_result"
    }
   ],
   "source": [
    "zeros = torch.zeros(2, 3) # 2 lines, 4 columns\n",
    "zeros"
   ]
  },
  {
   "cell_type": "code",
   "execution_count": 6,
   "id": "8aec1132",
   "metadata": {},
   "outputs": [
    {
     "data": {
      "text/plain": [
       "tensor([[1., 1., 1., 1.],\n",
       "        [1., 1., 1., 1.],\n",
       "        [1., 1., 1., 1.]])"
      ]
     },
     "execution_count": 6,
     "metadata": {},
     "output_type": "execute_result"
    }
   ],
   "source": [
    "ones = torch.ones(3, 4) # 3 lines, 4 columns\n",
    "ones "
   ]
  },
  {
   "cell_type": "code",
   "execution_count": 8,
   "id": "de2f2801",
   "metadata": {},
   "outputs": [
    {
     "data": {
      "text/plain": [
       "tensor([[6.3058e-44, 6.7262e-44, 7.8473e-44],\n",
       "        [6.3058e-44, 7.1466e-44, 6.8664e-44]])"
      ]
     },
     "execution_count": 8,
     "metadata": {},
     "output_type": "execute_result"
    }
   ],
   "source": [
    "empty = torch.empty(2, 3) # 2 lines 3 columns\n",
    "empty"
   ]
  },
  {
   "cell_type": "code",
   "execution_count": 17,
   "id": "0cd98af1",
   "metadata": {},
   "outputs": [
    {
     "data": {
      "text/plain": [
       "tensor([0, 1, 2, 3, 4])"
      ]
     },
     "execution_count": 17,
     "metadata": {},
     "output_type": "execute_result"
    }
   ],
   "source": [
    "arange = torch.arange(5) # like range function, generate integers\n",
    "# one line (one dimension array)\n",
    "arange"
   ]
  },
  {
   "cell_type": "code",
   "execution_count": 19,
   "id": "d51117f5",
   "metadata": {},
   "outputs": [
    {
     "data": {
      "text/plain": [
       "tensor([ 3.0000,  4.7500,  6.5000,  8.2500, 10.0000])"
      ]
     },
     "execution_count": 19,
     "metadata": {},
     "output_type": "execute_result"
    }
   ],
   "source": [
    "linspace = torch.linspace(3, 10, steps=5) # like range function too\n",
    "linspace  # one line"
   ]
  },
  {
   "cell_type": "code",
   "execution_count": 20,
   "id": "bd26215a",
   "metadata": {},
   "outputs": [
    {
     "data": {
      "text/plain": [
       "tensor([1.0000e-10, 1.0000e-05, 1.0000e+00, 1.0000e+05, 1.0000e+10])"
      ]
     },
     "execution_count": 20,
     "metadata": {},
     "output_type": "execute_result"
    }
   ],
   "source": [
    "logspace = torch.logspace(start=-10, end=10, steps=5) # one line\n",
    "logspace"
   ]
  },
  {
   "cell_type": "code",
   "execution_count": 24,
   "id": "696b8919",
   "metadata": {},
   "outputs": [
    {
     "data": {
      "text/plain": [
       "tensor([[1., 0., 0., 0., 0.],\n",
       "        [0., 1., 0., 0., 0.],\n",
       "        [0., 0., 1., 0., 0.],\n",
       "        [0., 0., 0., 1., 0.],\n",
       "        [0., 0., 0., 0., 1.]])"
      ]
     },
     "execution_count": 24,
     "metadata": {},
     "output_type": "execute_result"
    }
   ],
   "source": [
    "eye = torch.eye(5) # identity matrix if typed only one parameter\n",
    "eye"
   ]
  }
 ],
 "metadata": {
  "kernelspec": {
   "display_name": "cudagpt",
   "language": "python",
   "name": "cuda"
  },
  "language_info": {
   "codemirror_mode": {
    "name": "ipython",
    "version": 3
   },
   "file_extension": ".py",
   "mimetype": "text/x-python",
   "name": "python",
   "nbconvert_exporter": "python",
   "pygments_lexer": "ipython3",
   "version": "3.10.9"
  }
 },
 "nbformat": 4,
 "nbformat_minor": 5
}
