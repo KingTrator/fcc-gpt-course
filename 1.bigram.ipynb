{
 "cells": [
  {
   "cell_type": "code",
   "execution_count": 12,
   "id": "1b4e55a4-9a7f-4dd3-a09f-67542533eb7e",
   "metadata": {},
   "outputs": [
    {
     "name": "stdout",
     "output_type": "stream",
     "text": [
      "cpu\n"
     ]
    }
   ],
   "source": [
    "import torch\n",
    "device = 'cuda' if torch.cuda.is_available() else 'cpu'\n",
    "print(device) # I don't have a GPU."
   ]
  },
  {
   "cell_type": "code",
   "execution_count": 13,
   "id": "4373bab4-88f7-4b5e-ba62-1f7f86e273ba",
   "metadata": {
    "scrolled": true
   },
   "outputs": [],
   "source": [
    "with open('wizard_of_oz.txt', 'r', encoding='utf-8') as f:\n",
    "    text = f.read()\n",
    "chars = sorted(set(text)) # creates a list with unique chars at the text, then\n",
    "# sort they by Unicode order ('\\n' == 10, '1' == 49...)\n",
    "# print(chars)\n",
    "# print(len(chars)) # how many chars there is at the entiry wizard of oz book."
   ]
  },
  {
   "cell_type": "code",
   "execution_count": 19,
   "id": "172c8a84-153b-48e3-afd8-a2a40efc2888",
   "metadata": {
    "scrolled": true
   },
   "outputs": [],
   "source": [
    "# lambda functions: equivalent to defined functions, but they are concise, can't be reused\n",
    "# unless you saved it into a variable, plays very well with function map().\n",
    "# Basic structure: lambda(like def) x(parameter, can be more than one):(end of statement)\n",
    "# lambda x: x * 0.5 (simple event applied to the paramater, imediately retunred).\n",
    "# So, these are the basic uses for lambda:\n",
    "# variale = lambda x=0, y: 0.3y + x\n",
    "# print(variable(2, 1)) ---> displays \"2.3\" or\n",
    "# print(variable(y=1) ---> displays \"0.3\"\n",
    "# With map():\n",
    "# values = ['1', '2', '1']; vector = list(map(lambda y: 0.3y + 0, values));\n",
    "# vector = ['0.3', '0.6', '0.3']\n",
    "# Also:\n",
    "# list1 = [1, 2, 3]; list2 = [4, 5, 6]; result = list(map(lambda x, y: x + y, list1, list2))\n",
    "# OBS: Can't use default parameter when into map().\n",
    "\n",
    "string_to_int = { ch:i for i, ch in enumerate(chars) }\n",
    "int_to_string = {i:ch for i, ch in enumerate(chars) }\n",
    "encode = lambda s: [string_to_int[c] for c in s] # returns a list, that's a concicse form to build a list.\n",
    "decode = lambda l: ''.join([int_to_string[i] for i in l])\n",
    "\n",
    "data = torch.tensor(encode(text), dtype=torch.long)\n",
    "# print(data[:100])"
   ]
  },
  {
   "cell_type": "code",
   "execution_count": 20,
   "id": "c3b32706-915a-4fbb-9b0e-f606f62028b6",
   "metadata": {},
   "outputs": [],
   "source": [
    "n = int(0.8*len(data))\n",
    "train_data = data[:n]\n",
    "val_data = data[n:]"
   ]
  },
  {
   "cell_type": "code",
   "execution_count": 22,
   "id": "8169b2cd-4b84-4e5b-9c70-2c5ec891906e",
   "metadata": {},
   "outputs": [],
   "source": [
    "block_size = 8\n",
    "\n",
    "x = train_data[:block_size]\n",
    "y = train_data[1:block_size+1]"
   ]
  },
  {
   "cell_type": "code",
   "execution_count": 24,
   "id": "3d81b673-8bac-42aa-ab32-d539dc858af4",
   "metadata": {},
   "outputs": [
    {
     "name": "stdout",
     "output_type": "stream",
     "text": [
      "when input is tensor([79]) target is tensor(26)\n",
      "when input is tensor([79, 26]) target is tensor(31)\n",
      "when input is tensor([79, 26, 31]) target is tensor(24)\n",
      "when input is tensor([79, 26, 31, 24]) target is tensor(39)\n",
      "when input is tensor([79, 26, 31, 24, 39]) target is tensor(43)\n",
      "when input is tensor([79, 26, 31, 24, 39, 43]) target is tensor(28)\n",
      "when input is tensor([79, 26, 31, 24, 39, 43, 28]) target is tensor(41)\n",
      "when input is tensor([79, 26, 31, 24, 39, 43, 28, 41]) target is tensor(1)\n"
     ]
    }
   ],
   "source": [
    "for t in range(block_size):\n",
    "    context = x[:t+1]\n",
    "    target = y[t]\n",
    "    print('when input is', context, 'target is', target)"
   ]
  }
 ],
 "metadata": {
  "kernelspec": {
   "display_name": "cudagpt",
   "language": "python",
   "name": "cuda"
  },
  "language_info": {
   "codemirror_mode": {
    "name": "ipython",
    "version": 3
   },
   "file_extension": ".py",
   "mimetype": "text/x-python",
   "name": "python",
   "nbconvert_exporter": "python",
   "pygments_lexer": "ipython3",
   "version": "3.10.9"
  }
 },
 "nbformat": 4,
 "nbformat_minor": 5
}
